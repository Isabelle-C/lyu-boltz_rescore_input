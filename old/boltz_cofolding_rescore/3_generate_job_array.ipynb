{
 "cells": [
  {
   "cell_type": "code",
   "execution_count": 12,
   "id": "8696aae6",
   "metadata": {},
   "outputs": [],
   "source": [
    "recp_name = \"s2\""
   ]
  },
  {
   "cell_type": "code",
   "execution_count": 13,
   "id": "5ce2efb5",
   "metadata": {},
   "outputs": [],
   "source": [
    "YAML_BASE_PATH = f\"/lustre/fs6/lyu_lab/scratch/ichen/data/boltz_runs/{recp_name}_rescore_cofold_config\"\n",
    "OUT_BASE_PATH = f\"/lustre/fs6/lyu_lab/scratch/ichen/data/boltz_runs/{recp_name}_rescore_cofold_processed\""
   ]
  },
  {
   "cell_type": "code",
   "execution_count": 14,
   "id": "e344872e",
   "metadata": {},
   "outputs": [],
   "source": [
    "import os"
   ]
  },
  {
   "cell_type": "code",
   "execution_count": 15,
   "id": "c3d4d1ec",
   "metadata": {},
   "outputs": [],
   "source": [
    "yaml_files = os.listdir(YAML_BASE_PATH)"
   ]
  },
  {
   "cell_type": "code",
   "execution_count": 16,
   "id": "56fb8433",
   "metadata": {},
   "outputs": [
    {
     "data": {
      "text/plain": [
       "506"
      ]
     },
     "execution_count": 16,
     "metadata": {},
     "output_type": "execute_result"
    }
   ],
   "source": [
    "len(yaml_files)"
   ]
  },
  {
   "cell_type": "code",
   "execution_count": 17,
   "id": "b181dbf7",
   "metadata": {},
   "outputs": [],
   "source": [
    "array_num = 2"
   ]
  },
  {
   "cell_type": "code",
   "execution_count": 18,
   "id": "e0fe4898",
   "metadata": {},
   "outputs": [],
   "source": [
    "def split_list(lst, n):\n",
    "    \"\"\"\n",
    "    Splits a list into n parts as evenly as possible.\n",
    "    \n",
    "    Args:\n",
    "        lst (list): The input list.\n",
    "        n (int): Number of parts.\n",
    "\n",
    "    Returns:\n",
    "        List of n lists.\n",
    "    \"\"\"\n",
    "    k, r = divmod(len(lst), n)  # k = min size, r = remainder\n",
    "    parts = []\n",
    "    start = 0\n",
    "    for i in range(n):\n",
    "        end = start + k + (1 if i < r else 0)\n",
    "        parts.append(lst[start:end])\n",
    "        start = end\n",
    "    return parts\n"
   ]
  },
  {
   "cell_type": "code",
   "execution_count": 19,
   "id": "da7102f9",
   "metadata": {},
   "outputs": [],
   "source": [
    "parts = split_list(yaml_files, array_num)"
   ]
  },
  {
   "cell_type": "code",
   "execution_count": 20,
   "id": "9a8a8c76",
   "metadata": {},
   "outputs": [],
   "source": [
    "def generate_job_name(selected_yaml_files):\n",
    "    bash_array = \"job_names=(\"\n",
    "    for y in selected_yaml_files:\n",
    "        bash_array += f\"'{y}'\\n \"\n",
    "    bash_array = bash_array.rstrip() + \")\"\n",
    "\n",
    "    return bash_array"
   ]
  },
  {
   "cell_type": "code",
   "execution_count": 21,
   "id": "ccab2b9e",
   "metadata": {},
   "outputs": [],
   "source": [
    "counter = 0\n",
    "\n",
    "for i in range(array_num):\n",
    "    slurm_script = f\"\"\"#!/bin/bash\n",
    "#SBATCH --job-name={i}_{recp_name}_rescore_cofold\n",
    "#SBATCH --time=02:00:00\n",
    "#SBATCH --partition=hpc_l40s\n",
    "#SBATCH --nodes=1\n",
    "#SBATCH --ntasks=1\n",
    "#SBATCH --cpus-per-task=8\n",
    "#SBATCH --gres=gpu:4\n",
    "#SBATCH --mem-per-gpu=40G\n",
    "#SBATCH --output={recp_name}_%A.out\n",
    "\n",
    "export CUDA_VISIBLE_DEVICES=0,1,2,3\n",
    "export PATH=/ru-auth/local/home/ichen/miniconda3/bin:$PATH\n",
    "source activate boltz_rescore\n",
    "\n",
    "{generate_job_name(parts[i])}\n",
    "\n",
    "# Build the tasks array\n",
    "tasks=()\n",
    "for JOB_NAME in \"${{job_names[@]}}\"; do\n",
    "  tasks+=(\"boltz rescore {YAML_BASE_PATH}/${{JOB_NAME}} --out_dir {OUT_BASE_PATH}/$(basename $JOB_NAME .yaml) --use_msa_server\")\n",
    "done\n",
    "\n",
    "printf \"%s\\\\n\" \"${{tasks[@]}}\" | parallel -j $SLURM_CPUS_PER_TASK\n",
    "\"\"\"\n",
    "    with open(f\"{recp_name}_cofold_rescore_part{i}.sbatch\", \"w\") as f:\n",
    "        f.write(slurm_script)\n"
   ]
  },
  {
   "cell_type": "code",
   "execution_count": null,
   "id": "4d6c577a",
   "metadata": {},
   "outputs": [],
   "source": []
  }
 ],
 "metadata": {
  "kernelspec": {
   "display_name": "Python 3",
   "language": "python",
   "name": "python3"
  },
  "language_info": {
   "codemirror_mode": {
    "name": "ipython",
    "version": 3
   },
   "file_extension": ".py",
   "mimetype": "text/x-python",
   "name": "python",
   "nbconvert_exporter": "python",
   "pygments_lexer": "ipython3",
   "version": "3.11.11"
  }
 },
 "nbformat": 4,
 "nbformat_minor": 5
}
