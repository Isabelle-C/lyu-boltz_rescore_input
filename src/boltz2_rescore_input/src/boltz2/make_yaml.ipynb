{
 "cells": [
  {
   "cell_type": "code",
   "execution_count": 37,
   "id": "b88c8d51",
   "metadata": {},
   "outputs": [],
   "source": [
    "def get_fasta_sequences_and_smiles(file_path):\n",
    "    protein_sequences = []\n",
    "    smiles_str = \"\"\n",
    "    with open(file_path) as f:\n",
    "        seq = \"\"\n",
    "        record = False\n",
    "        smiles_record = False\n",
    "        for line in f:\n",
    "            if line.startswith(\">\"):\n",
    "                if record and seq:\n",
    "                    protein_sequences.append(seq)\n",
    "                    seq = \"\"\n",
    "                record = \"|protein\" in line\n",
    "                # If we were reading SMILES, stop now\n",
    "                if smiles_record and smiles_str:\n",
    "                    smiles_record = False\n",
    "                smiles_record = \"|smiles\" in line\n",
    "                continue\n",
    "            if record:\n",
    "                seq += line.strip()\n",
    "            if smiles_record:\n",
    "                smiles_str += line.strip()\n",
    "    if record and seq:\n",
    "        protein_sequences.append(seq)\n",
    "    # If no SMILES found, set to None\n",
    "    if not smiles_str:\n",
    "        smiles_str = None\n",
    "    return protein_sequences, smiles_str\n",
    "\n",
    "# Example usage:\n",
    "# protein_seqs, smiles = get_fasta_sequences_and_smiles(\"ZINCgj000000VSmS.fasta\")"
   ]
  },
  {
   "cell_type": "code",
   "execution_count": 38,
   "id": "b125caef",
   "metadata": {},
   "outputs": [],
   "source": [
    "recp_name = \"s2\""
   ]
  },
  {
   "cell_type": "code",
   "execution_count": 39,
   "id": "b36e7972",
   "metadata": {},
   "outputs": [],
   "source": [
    "import sys\n",
    "sys.path.append(\"/lustre/fs6/lyu_lab/scratch/ichen/dudez_rescore/src\")\n",
    "from dudez_rescore.batch import Batch"
   ]
  },
  {
   "cell_type": "code",
   "execution_count": 40,
   "id": "dd63330d",
   "metadata": {},
   "outputs": [],
   "source": [
    "fasta_dir = f\"/lustre/fs6/lyu_lab/scratch/ichen/data/boltz2_runs/{recp_name}_config\"\n",
    "os.makedirs(fasta_dir, exist_ok=True)"
   ]
  },
  {
   "cell_type": "code",
   "execution_count": 41,
   "id": "c5deac22",
   "metadata": {},
   "outputs": [],
   "source": [
    "old_fasta_dir = f\"/lustre/fs6/lyu_lab/scratch/ichen/data/boltz_rescore/{recp_name}/{recp_name}_fasta\""
   ]
  },
  {
   "cell_type": "code",
   "execution_count": 42,
   "id": "a63379a1",
   "metadata": {},
   "outputs": [],
   "source": [
    "import os"
   ]
  },
  {
   "cell_type": "code",
   "execution_count": 43,
   "id": "da913824",
   "metadata": {},
   "outputs": [],
   "source": [
    "a3m_filepath = {\n",
    "    \"d4\": \"/lustre/fs6/lyu_lab/scratch/ichen/data/boltz_rescore/d4/d4_raw/d4_uniref.a3m\",\n",
    "    \"ampc\": \"/lustre/fs6/lyu_lab/scratch/ichen/data/boltz_rescore/ampc/ampc_raw/ampc.a3m\",\n",
    "    \"s2\": \"/lustre/fs6/lyu_lab/scratch/ichen/data/boltz_rescore/s2/s2_raw/s2.a3m\",\n",
    "}"
   ]
  },
  {
   "cell_type": "code",
   "execution_count": 44,
   "id": "4e86cbc2",
   "metadata": {},
   "outputs": [],
   "source": [
    "for i in os.listdir(old_fasta_dir):\n",
    "\n",
    "    protein_seqs, smiles = get_fasta_sequences_and_smiles(f\"{old_fasta_dir}/{i}\")\n",
    "    \n",
    "    without_ext = os.path.splitext(i)[0]\n",
    "    boltz_config = {\n",
    "        \"version\": 1,\n",
    "        \"sequences\": [\n",
    "            {\n",
    "                \"protein\": {\n",
    "                    \"id\": \"A\",\n",
    "                    \"sequence\": protein_seqs[0],\n",
    "                    \"msa\":a3m_filepath[recp_name],\n",
    "                }\n",
    "            },\n",
    "            {\n",
    "                \"ligand\": {\n",
    "                    \"id\": \"B\",\n",
    "                    \"smiles\": smiles\n",
    "                }\n",
    "            }\n",
    "        ],\n",
    "        \"properties\": [\n",
    "            {\n",
    "                \"affinity\": {\n",
    "                    \"binder\": \"B\"\n",
    "                }\n",
    "            }\n",
    "        ]\n",
    "    }\n",
    "    yaml_file = f\"{fasta_dir}/{without_ext}.yaml\"\n",
    "\n",
    "    Batch.write_yaml_line_by_line(yaml_file, boltz_config)\n"
   ]
  }
 ],
 "metadata": {
  "kernelspec": {
   "display_name": "Python 3",
   "language": "python",
   "name": "python3"
  },
  "language_info": {
   "codemirror_mode": {
    "name": "ipython",
    "version": 3
   },
   "file_extension": ".py",
   "mimetype": "text/x-python",
   "name": "python",
   "nbconvert_exporter": "python",
   "pygments_lexer": "ipython3",
   "version": "3.11.11"
  }
 },
 "nbformat": 4,
 "nbformat_minor": 5
}
