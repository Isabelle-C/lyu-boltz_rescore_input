{
 "cells": [
  {
   "cell_type": "code",
   "execution_count": 8,
   "id": "56ee67e3",
   "metadata": {},
   "outputs": [],
   "source": [
    "recp_name = \"s2\""
   ]
  },
  {
   "cell_type": "code",
   "execution_count": 9,
   "id": "fe00b8eb",
   "metadata": {},
   "outputs": [],
   "source": [
    "a3m_filepath = {\n",
    "    \"d4\": \"/lustre/fs6/lyu_lab/scratch/ichen/data/boltz_rescore/d4/d4_raw/d4_uniref.a3m\",\n",
    "    \"ampc\": \"/lustre/fs6/lyu_lab/scratch/ichen/data/boltz_rescore/ampc/ampc_raw/ampc.a3m\",\n",
    "    \"s2\": \"/lustre/fs6/lyu_lab/scratch/ichen/data/boltz_rescore/s2/s2_raw/s2.a3m\",\n",
    "}"
   ]
  },
  {
   "cell_type": "code",
   "execution_count": 10,
   "id": "179061b1",
   "metadata": {},
   "outputs": [],
   "source": [
    "import os\n",
    "splitted_mol = f\"/lustre/fs6/lyu_lab/scratch/ichen/data/boltz_runs/{recp_name}_mol2\""
   ]
  },
  {
   "cell_type": "code",
   "execution_count": 11,
   "id": "b36e7972",
   "metadata": {},
   "outputs": [],
   "source": [
    "import sys\n",
    "sys.path.append(\"/lustre/fs6/lyu_lab/scratch/ichen/dudez_rescore/src\")\n",
    "from dudez_rescore.batch import Batch"
   ]
  },
  {
   "cell_type": "code",
   "execution_count": 12,
   "id": "4977eb26",
   "metadata": {},
   "outputs": [],
   "source": [
    "config_dir =f\"/lustre/fs6/lyu_lab/scratch/ichen/data/boltz_runs/{recp_name}_rescore_cofold_config\"\n",
    "os.makedirs(config_dir, exist_ok=True)"
   ]
  },
  {
   "cell_type": "code",
   "execution_count": 13,
   "id": "dd63330d",
   "metadata": {},
   "outputs": [],
   "source": [
    "fasta_dir = f\"/lustre/fs6/lyu_lab/scratch/ichen/data/boltz_runs/{recp_name}_rescore_cofold_fasta\"\n",
    "os.makedirs(fasta_dir, exist_ok=True)"
   ]
  },
  {
   "cell_type": "code",
   "execution_count": 14,
   "id": "4e86cbc2",
   "metadata": {},
   "outputs": [],
   "source": [
    "for i in os.listdir(splitted_mol):\n",
    "    without_ext = os.path.splitext(i)[0]\n",
    "    boltz_config = {\n",
    "        \"pdb_path\": f\"/lustre/fs6/lyu_lab/scratch/ichen/data/boltz_runs/{recp_name}_pdb/{without_ext}.pdb\",\n",
    "        \"mol2_dir\": f\"{splitted_mol}/{i}\",\n",
    "        \"processed_dir\": f\"{fasta_dir}/{without_ext}\",\n",
    "        \"msa_filepath\": a3m_filepath[recp_name],\n",
    "    }\n",
    "\n",
    "    yaml_file = f\"{config_dir}/{without_ext}.yaml\"\n",
    "\n",
    "    Batch.write_yaml_line_by_line(yaml_file, boltz_config)\n"
   ]
  }
 ],
 "metadata": {
  "kernelspec": {
   "display_name": "Python 3",
   "language": "python",
   "name": "python3"
  },
  "language_info": {
   "codemirror_mode": {
    "name": "ipython",
    "version": 3
   },
   "file_extension": ".py",
   "mimetype": "text/x-python",
   "name": "python",
   "nbconvert_exporter": "python",
   "pygments_lexer": "ipython3",
   "version": "3.11.11"
  }
 },
 "nbformat": 4,
 "nbformat_minor": 5
}
