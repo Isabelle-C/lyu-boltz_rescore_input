{
 "cells": [
  {
   "cell_type": "code",
   "execution_count": 10,
   "id": "6ea50f15",
   "metadata": {},
   "outputs": [],
   "source": [
    "from Bio.PDB.MMCIFParser import MMCIFParser\n",
    "from Bio.PDB import PDBIO, Select\n",
    "from rdkit import Chem\n",
    "from rdkit.Chem import AllChem\n",
    "import tempfile\n",
    "import os\n",
    "\n",
    "# Protein selector: standard residues only\n",
    "class ProteinSelect(Select):\n",
    "    def accept_residue(self, residue):\n",
    "        return residue.id[0] == \" \"  # Main-chain residues\n",
    "\n",
    "# Ligand selector: heteroatoms only\n",
    "class LigandSelect(Select):\n",
    "    def accept_residue(self, residue):\n",
    "        return residue.id[0] != \" \"  # Ligands/metals/etc.\n",
    "\n",
    "def extract_pdb_and_mol2_no_pybel(cif_path, pdb_out, ligand_pdb_out):\n",
    "    parser = MMCIFParser(QUIET=True)\n",
    "    structure = parser.get_structure(\"struct\", cif_path)\n",
    "\n",
    "    io = PDBIO()\n",
    "    io.set_structure(structure)\n",
    "\n",
    "    # Save protein\n",
    "    io.save(pdb_out, ProteinSelect())\n",
    "    io.save(ligand_pdb_out, LigandSelect())"
   ]
  },
  {
   "cell_type": "code",
   "execution_count": 11,
   "id": "a8908cb7",
   "metadata": {},
   "outputs": [],
   "source": [
    "recp_name = \"s2\"\n",
    "pred_dir = f\"/lustre/fs6/lyu_lab/scratch/ichen/data/boltz_runs/{recp_name}/boltz_results_{recp_name}_fasta/predictions\"\n",
    "mol2_dir = f\"/lustre/fs6/lyu_lab/scratch/ichen/data/boltz_runs/{recp_name}_mol2\"\n",
    "pdb_dir = f\"/lustre/fs6/lyu_lab/scratch/ichen/data/boltz_runs/{recp_name}_pdb\"\n",
    "\n",
    "os.makedirs(mol2_dir, exist_ok=True)\n",
    "os.makedirs(pdb_dir, exist_ok=True)"
   ]
  },
  {
   "cell_type": "code",
   "execution_count": 12,
   "id": "41093ea3",
   "metadata": {},
   "outputs": [],
   "source": [
    "for i in os.listdir(pred_dir):\n",
    "    complex_dir = f\"{pred_dir}/{i}/{i}_model_0.cif\"\n",
    "\n",
    "    pdb_out_dir = f\"{pdb_dir}/{i}.pdb\"\n",
    "    mol2_out_dir = f\"{mol2_dir}/{i}.pdb\"\n",
    "\n",
    "    if not os.path.exists(complex_dir):\n",
    "        print(i)\n",
    "    else:\n",
    "        if not os.path.exists(pdb_out_dir) or not os.path.exists(mol2_out_dir):\n",
    "            #print(f\"Processing {i}...\")\n",
    "            # Extract PDB and ligand PDB\n",
    "            if not os.path.exists(complex_dir):\n",
    "                print(f\"File {complex_dir} does not exist.\")\n",
    "                continue\n",
    "            # Extract the protein and ligand structures\n",
    "            extract_pdb_and_mol2_no_pybel(complex_dir, pdb_out=pdb_out_dir, ligand_pdb_out=mol2_out_dir)"
   ]
  }
 ],
 "metadata": {
  "kernelspec": {
   "display_name": "Python 3",
   "language": "python",
   "name": "python3"
  },
  "language_info": {
   "codemirror_mode": {
    "name": "ipython",
    "version": 3
   },
   "file_extension": ".py",
   "mimetype": "text/x-python",
   "name": "python",
   "nbconvert_exporter": "python",
   "pygments_lexer": "ipython3",
   "version": "3.11.11"
  }
 },
 "nbformat": 4,
 "nbformat_minor": 5
}
